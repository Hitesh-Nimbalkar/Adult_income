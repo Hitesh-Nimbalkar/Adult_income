{
 "cells": [
  {
   "cell_type": "code",
   "execution_count": 19,
   "metadata": {},
   "outputs": [],
   "source": [
    "import pandas as pd"
   ]
  },
  {
   "cell_type": "code",
   "execution_count": 20,
   "metadata": {},
   "outputs": [],
   "source": [
    "df=pd.read_csv('adult.csv')"
   ]
  },
  {
   "cell_type": "code",
   "execution_count": 21,
   "metadata": {},
   "outputs": [],
   "source": [
    "def display_column_types(column_names, data_types):\n",
    "    if len(column_names) != len(data_types):\n",
    "        print(\"Number of column names and data types do not match.\")\n",
    "        return\n",
    "\n",
    "    print(\"Numerical Columns:\")\n",
    "    for column, dtype in zip(column_names, data_types):\n",
    "        if dtype != 'object':\n",
    "            print(f\"- {column}: Numerical\")\n",
    "\n",
    "    print(\"\\nCategorical Columns:\")\n",
    "    for column, dtype in zip(column_names, data_types):\n",
    "        if dtype == 'object':\n",
    "            print(f\"- {column}: Categorical\")\n",
    "    \n",
    "    print(\"--------------------\")"
   ]
  },
  {
   "cell_type": "code",
   "execution_count": 22,
   "metadata": {},
   "outputs": [],
   "source": [
    "def display_column_types_from_dataframe(df):\n",
    "        # Get the column names and data types from the DataFrame\n",
    "        column_names = df.columns.tolist()\n",
    "        data_types = df.dtypes.tolist()\n",
    "        \n",
    "        # Display the column names and data types\n",
    "        display_column_types(column_names, data_types)"
   ]
  },
  {
   "cell_type": "code",
   "execution_count": 23,
   "metadata": {},
   "outputs": [
    {
     "name": "stdout",
     "output_type": "stream",
     "text": [
      "Numerical Columns:\n",
      "- age: Numerical\n",
      "- fnlwgt: Numerical\n",
      "- educational-num: Numerical\n",
      "- capital-gain: Numerical\n",
      "- capital-loss: Numerical\n",
      "- hours-per-week: Numerical\n",
      "\n",
      "Categorical Columns:\n",
      "- workclass: Categorical\n",
      "- education: Categorical\n",
      "- marital-status: Categorical\n",
      "- occupation: Categorical\n",
      "- relationship: Categorical\n",
      "- race: Categorical\n",
      "- gender: Categorical\n",
      "- native-country: Categorical\n",
      "- income: Categorical\n",
      "--------------------\n"
     ]
    }
   ],
   "source": [
    "display_column_types_from_dataframe(df)"
   ]
  },
  {
   "cell_type": "code",
   "execution_count": null,
   "metadata": {},
   "outputs": [],
   "source": []
  }
 ],
 "metadata": {
  "kernelspec": {
   "display_name": ".venv",
   "language": "python",
   "name": "python3"
  },
  "language_info": {
   "codemirror_mode": {
    "name": "ipython",
    "version": 3
   },
   "file_extension": ".py",
   "mimetype": "text/x-python",
   "name": "python",
   "nbconvert_exporter": "python",
   "pygments_lexer": "ipython3",
   "version": "3.11.2"
  },
  "orig_nbformat": 4
 },
 "nbformat": 4,
 "nbformat_minor": 2
}
